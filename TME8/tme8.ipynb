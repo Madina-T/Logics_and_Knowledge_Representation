{
 "cells": [
  {
   "cell_type": "code",
   "execution_count": 1,
   "metadata": {
    "collapsed": true
   },
   "outputs": [],
   "source": [
    "import LRC_TME8_definitions_Allen as defs\n",
    "import copy"
   ]
  },
  {
   "cell_type": "markdown",
   "metadata": {},
   "source": [
    "## Exercice 1 : Implémentation de la composition"
   ]
  },
  {
   "cell_type": "code",
   "execution_count": 2,
   "metadata": {
    "collapsed": true
   },
   "outputs": [],
   "source": [
    "def transposeSet(S):\n",
    "    return set([defs.transpose[r] for r in S])"
   ]
  },
  {
   "cell_type": "code",
   "execution_count": 3,
   "metadata": {},
   "outputs": [
    {
     "data": {
      "text/plain": [
       "{'>', 'e', 'et', 'st'}"
      ]
     },
     "execution_count": 3,
     "metadata": {},
     "output_type": "execute_result"
    }
   ],
   "source": [
    "transposeSet(['<','e','et','s'])"
   ]
  },
  {
   "cell_type": "code",
   "execution_count": 4,
   "metadata": {
    "collapsed": true
   },
   "outputs": [],
   "source": [
    "def symetrieSet(S):\n",
    "    return set([defs.symetrie[r] for r in S])"
   ]
  },
  {
   "cell_type": "code",
   "execution_count": 5,
   "metadata": {},
   "outputs": [
    {
     "data": {
      "text/plain": [
       "{'>', 'e', 's', 'st'}"
      ]
     },
     "execution_count": 5,
     "metadata": {},
     "output_type": "execute_result"
    }
   ],
   "source": [
    "symetrieSet(['<','e','et','s'])"
   ]
  },
  {
   "cell_type": "code",
   "execution_count": 6,
   "metadata": {
    "collapsed": true
   },
   "outputs": [],
   "source": [
    "def compose(r1,r2):\n",
    "    if r1 == '=':\n",
    "        return {r2}\n",
    "    if r2 == '=':\n",
    "        return {r1}\n",
    "    if (r1,r2) in defs.compositionBase:\n",
    "        return defs.compositionBase[(r1,r2)]\n",
    "    r1t = defs.transpose[r1]\n",
    "    r2t = defs.transpose[r2]\n",
    "    if (r2t,r1t) in defs.compositionBase:\n",
    "        return transposeSet(defs.compositionBase[(r2t,r1t)])\n",
    "    r1s = defs.symetrie[r1]\n",
    "    r2s = defs.symetrie[r2]\n",
    "    if (r1s,r2s) in defs.compositionBase:\n",
    "        return symetrieSet(defs.compositionBase[(r1s,r2s)])\n",
    "    r1st = defs.transpose[defs.symetrie[r1]]\n",
    "    r2st = defs.transpose[defs.symetrie[r2]]\n",
    "    if (r2st,r1st) in defs.compositionBase:\n",
    "        return symetrieSet(transposeSet(defs.compositionBase[(r2st,r1st)]))"
   ]
  },
  {
   "cell_type": "code",
   "execution_count": 7,
   "metadata": {},
   "outputs": [
    {
     "data": {
      "text/plain": [
       "{'d'}"
      ]
     },
     "execution_count": 7,
     "metadata": {},
     "output_type": "execute_result"
    }
   ],
   "source": [
    "compose('=','d')"
   ]
  },
  {
   "cell_type": "code",
   "execution_count": 8,
   "metadata": {},
   "outputs": [
    {
     "data": {
      "text/plain": [
       "{'d', 'o', 's'}"
      ]
     },
     "execution_count": 8,
     "metadata": {},
     "output_type": "execute_result"
    }
   ],
   "source": [
    "compose('m','d')"
   ]
  },
  {
   "cell_type": "code",
   "execution_count": 9,
   "metadata": {},
   "outputs": [
    {
     "data": {
      "text/plain": [
       "{'>'}"
      ]
     },
     "execution_count": 9,
     "metadata": {},
     "output_type": "execute_result"
    }
   ],
   "source": [
    "compose('ot','>')"
   ]
  },
  {
   "cell_type": "code",
   "execution_count": 10,
   "metadata": {},
   "outputs": [
    {
     "data": {
      "text/plain": [
       "{'>'}"
      ]
     },
     "execution_count": 10,
     "metadata": {},
     "output_type": "execute_result"
    }
   ],
   "source": [
    "compose('>','e')"
   ]
  },
  {
   "cell_type": "code",
   "execution_count": 11,
   "metadata": {},
   "outputs": [
    {
     "data": {
      "text/plain": [
       "{'dt', 'et', 'o'}"
      ]
     },
     "execution_count": 11,
     "metadata": {},
     "output_type": "execute_result"
    }
   ],
   "source": [
    "compose('ot','m')"
   ]
  },
  {
   "cell_type": "code",
   "execution_count": 12,
   "metadata": {
    "collapsed": true
   },
   "outputs": [],
   "source": [
    "def compositionSet(S1, S2):\n",
    "    S = set()\n",
    "    for r1 in S1:\n",
    "        for r2 in S2:\n",
    "            S = S | compose(r1,r2)\n",
    "    return S"
   ]
  },
  {
   "cell_type": "code",
   "execution_count": 13,
   "metadata": {},
   "outputs": [
    {
     "data": {
      "text/plain": [
       "{'<', 'dt', 'et', 'm', 'o'}"
      ]
     },
     "execution_count": 13,
     "metadata": {},
     "output_type": "execute_result"
    }
   ],
   "source": [
    "compositionSet({'m','o'}, {'dt','et','st','='})"
   ]
  },
  {
   "cell_type": "markdown",
   "metadata": {},
   "source": [
    "## Exercice 2 : Gestion du graphe temporel"
   ]
  },
  {
   "cell_type": "code",
   "execution_count": 14,
   "metadata": {
    "collapsed": true
   },
   "outputs": [],
   "source": [
    "class Graphe:\n",
    "\n",
    "    def __init__(self, noeuds, relations):\n",
    "        self.noeuds = noeuds\n",
    "        self.relations = relations\n",
    "        \n",
    "    def getRelations(self, i, j):\n",
    "        if (i,j) in self.relations:\n",
    "            return self.relations[(i,j)]\n",
    "        if (j,i) in self.relations:\n",
    "            return transposeSet(self.relations[(j,i)])\n",
    "        return set(defs.transpose.keys())"
   ]
  },
  {
   "cell_type": "code",
   "execution_count": 15,
   "metadata": {
    "collapsed": true
   },
   "outputs": [],
   "source": [
    "g = Graphe({'A','B','C'},{('A','B') :{'o','e'}})"
   ]
  },
  {
   "cell_type": "code",
   "execution_count": 16,
   "metadata": {},
   "outputs": [
    {
     "data": {
      "text/plain": [
       "{'e', 'o'}"
      ]
     },
     "execution_count": 16,
     "metadata": {},
     "output_type": "execute_result"
    }
   ],
   "source": [
    "g.getRelations('A','B')"
   ]
  },
  {
   "cell_type": "code",
   "execution_count": 17,
   "metadata": {},
   "outputs": [
    {
     "data": {
      "text/plain": [
       "{'<', '=', '>', 'd', 'dt', 'e', 'et', 'm', 'mt', 'o', 'ot', 's', 'st'}"
      ]
     },
     "execution_count": 17,
     "metadata": {},
     "output_type": "execute_result"
    }
   ],
   "source": [
    "g.getRelations('A','C')"
   ]
  },
  {
   "cell_type": "code",
   "execution_count": 18,
   "metadata": {
    "collapsed": true
   },
   "outputs": [],
   "source": [
    "def propagation(g, a, b):\n",
    "    Rab = g.getRelations(a,b)\n",
    "    pile = [(a,b,Rab)]\n",
    "    while pile:\n",
    "        i,j,Rij = pile.pop()\n",
    "        for k in g.noeuds:\n",
    "            if k != i and k != j:\n",
    "                Rik = g.getRelations(i,k)\n",
    "                Rjk = g.getRelations(j,k)\n",
    "                Rkj = g.getRelations(k,j)\n",
    "                Rki = g.getRelations(k,i)\n",
    "                newRik = Rik & compositionSet(Rij,Rjk)\n",
    "                newRkj = Rkj & compositionSet(Rki,Rij)\n",
    "                if not newRik or not newRkj:\n",
    "                    break\n",
    "                elif newRik != Rik:\n",
    "                    Rik = newRik\n",
    "                    g.relations[(i,k)] = Rik\n",
    "                    pile.append((i,k,Rik))\n",
    "                elif newRkj != Rkj:\n",
    "                    Rkj = newRkj\n",
    "                    g.relations[(k,j)] = Rkj\n",
    "                    pile.append((k,j,Rkj))"
   ]
  },
  {
   "cell_type": "code",
   "execution_count": 19,
   "metadata": {
    "collapsed": true
   },
   "outputs": [],
   "source": [
    "def ajouter(g, R):\n",
    "    G = copy.deepcopy(g)\n",
    "    Rab, a, b = R\n",
    "    if a not in g.noeuds:\n",
    "        G.noeuds.add(a)\n",
    "    if b not in g.noeuds:\n",
    "        G.noeuds.add(b)\n",
    "    G.relations[(a,b)] = Rab\n",
    "    propagation(G,a,b)\n",
    "    return G"
   ]
  },
  {
   "cell_type": "markdown",
   "metadata": {},
   "source": [
    "Graphe g1 avec les relations A{<}B et A{>}C :"
   ]
  },
  {
   "cell_type": "code",
   "execution_count": 20,
   "metadata": {},
   "outputs": [
    {
     "data": {
      "text/plain": [
       "{('A', 'B'): {'<'}}"
      ]
     },
     "execution_count": 20,
     "metadata": {},
     "output_type": "execute_result"
    }
   ],
   "source": [
    "g1 = Graphe(set(),{})\n",
    "g1 = ajouter(g1,({'<'},'A','B'))\n",
    "g1.relations"
   ]
  },
  {
   "cell_type": "code",
   "execution_count": 21,
   "metadata": {},
   "outputs": [
    {
     "data": {
      "text/plain": [
       "{('A', 'B'): {'<'}, ('A', 'C'): {'>'}, ('B', 'C'): {'>'}}"
      ]
     },
     "execution_count": 21,
     "metadata": {},
     "output_type": "execute_result"
    }
   ],
   "source": [
    "g1 = ajouter(g1,({'>'},'A','C'))\n",
    "g1.relations"
   ]
  },
  {
   "cell_type": "markdown",
   "metadata": {},
   "source": [
    "Ajout de la relation B{=}C :"
   ]
  },
  {
   "cell_type": "code",
   "execution_count": 22,
   "metadata": {},
   "outputs": [
    {
     "data": {
      "text/plain": [
       "{('A', 'B'): {'<'}, ('A', 'C'): {'>'}, ('B', 'C'): {'='}}"
      ]
     },
     "execution_count": 22,
     "metadata": {},
     "output_type": "execute_result"
    }
   ],
   "source": [
    "g1 = ajouter(g1,({'='},'B','C'))\n",
    "g1.relations"
   ]
  },
  {
   "cell_type": "markdown",
   "metadata": {},
   "source": [
    "Graphe g2 avec les relations A{<}B et A{<}C :"
   ]
  },
  {
   "cell_type": "code",
   "execution_count": 23,
   "metadata": {},
   "outputs": [
    {
     "data": {
      "text/plain": [
       "{('A', 'B'): {'<'}}"
      ]
     },
     "execution_count": 23,
     "metadata": {},
     "output_type": "execute_result"
    }
   ],
   "source": [
    "g2 = Graphe(set(),{})\n",
    "g2 = ajouter(g2,({'<'},'A','B'))\n",
    "g2.relations"
   ]
  },
  {
   "cell_type": "code",
   "execution_count": 24,
   "metadata": {},
   "outputs": [
    {
     "data": {
      "text/plain": [
       "{('A', 'B'): {'<'}, ('A', 'C'): {'<'}}"
      ]
     },
     "execution_count": 24,
     "metadata": {},
     "output_type": "execute_result"
    }
   ],
   "source": [
    "g2 = ajouter(g2,({'<'},'A','C'))\n",
    "g2.relations"
   ]
  },
  {
   "cell_type": "markdown",
   "metadata": {},
   "source": [
    "Ajout de la relation B{=}C :"
   ]
  },
  {
   "cell_type": "code",
   "execution_count": 25,
   "metadata": {},
   "outputs": [
    {
     "data": {
      "text/plain": [
       "{('A', 'B'): {'<'}, ('A', 'C'): {'<'}, ('B', 'C'): {'='}}"
      ]
     },
     "execution_count": 25,
     "metadata": {},
     "output_type": "execute_result"
    }
   ],
   "source": [
    "g2 = ajouter(g2,({'='},'B','C'))\n",
    "g2.relations"
   ]
  },
  {
   "cell_type": "markdown",
   "metadata": {},
   "source": [
    "Graphe G1 établi à partir de la phrase \"La  lampe  s’est  allumée  pendant  ou  juste  après  que  j’ai  appuyé  sur  l’interrupteur. John n’ ́etait pas dans la pièce lorsque j’ai appuye sur l’interrupteur\" :"
   ]
  },
  {
   "cell_type": "code",
   "execution_count": 26,
   "metadata": {},
   "outputs": [
    {
     "data": {
      "text/plain": [
       "{('L', 'R'): {'<', '=', '>', 'dt', 'et', 'm', 'o', 's', 'st'},\n",
       " ('L', 'S'): {'mt', 'ot'},\n",
       " ('S', 'R'): {'<', '>', 'm', 'mt'}}"
      ]
     },
     "execution_count": 26,
     "metadata": {},
     "output_type": "execute_result"
    }
   ],
   "source": [
    "G1 = Graphe(set(),{})\n",
    "G1 = ajouter(G1,({'ot','mt'},'L','S'))\n",
    "G1 = ajouter(G1,({'>','<','m','mt'},'S','R'))\n",
    "G1.relations"
   ]
  },
  {
   "cell_type": "markdown",
   "metadata": {},
   "source": [
    "On apprend que John ́etait dans la pièce lorsque la lumière a ́été ́éteinte. On obtient alors le nouveau graphe G1 suivant :"
   ]
  },
  {
   "cell_type": "code",
   "execution_count": 31,
   "metadata": {},
   "outputs": [
    {
     "data": {
      "text/plain": [
       "{('L', 'R'): {'o', 's'}, ('L', 'S'): {'mt', 'ot'}, ('S', 'R'): {'<', 'm'}}"
      ]
     },
     "execution_count": 31,
     "metadata": {},
     "output_type": "execute_result"
    }
   ],
   "source": [
    "G1 = ajouter(G1,({'o','s'},'L','R'))\n",
    "G1.relations"
   ]
  },
  {
   "cell_type": "markdown",
   "metadata": {},
   "source": [
    "Cette dernière information nous permet donc de déduire que la lumière était allumée pendant une partie du temps où John était dans la pièce (soit elle a été allumée à l'arrivée de John et a été éteinte alors qu'il était encore dans la pièce (s) soit elle a été allumée avant l'arrivée de John et a été éteinte alors qu'il était encore dans la pièce (o))."
   ]
  },
  {
   "cell_type": "markdown",
   "metadata": {},
   "source": [
    "Graphe G2 de l'exercice sur le petit-déjeuner d'Alfred :"
   ]
  },
  {
   "cell_type": "code",
   "execution_count": 36,
   "metadata": {},
   "outputs": [
    {
     "data": {
      "text/plain": [
       "{('D', 'C'): {'<', '=', 'd', 'dt', 'e', 'et', 'm', 'o', 'ot', 's', 'st'},\n",
       " ('D', 'P'): {'<', 'm'},\n",
       " ('J', 'C'): {'=', 'e', 'et'},\n",
       " ('J', 'D'): {'=', 'd', 'dt', 'e', 'et', 'o', 'ot', 's'},\n",
       " ('J', 'P'): {'<', 'dt', 'et', 'm', 'o'}}"
      ]
     },
     "execution_count": 36,
     "metadata": {},
     "output_type": "execute_result"
    }
   ],
   "source": [
    "G2 = Graphe(set(),{})\n",
    "G2 = ajouter(G2,({'o','et','dt','s','=','d','e','ot'},'J','D'))\n",
    "G2 = ajouter(G2,({'et','=','e'},'J','C'))\n",
    "G2 = ajouter(G2,({'<','m'},'D','P'))\n",
    "G2.relations"
   ]
  },
  {
   "cell_type": "markdown",
   "metadata": {},
   "source": [
    "On ajoute l'information suivante : \"Boire le café est une étape du petit déjeuner\" : "
   ]
  },
  {
   "cell_type": "code",
   "execution_count": 37,
   "metadata": {},
   "outputs": [
    {
     "data": {
      "text/plain": [
       "{('C', 'D'): {'=', 'd', 'e', 's'},\n",
       " ('C', 'P'): {'<', 'm'},\n",
       " ('D', 'C'): {'<', '=', 'd', 'dt', 'e', 'et', 'm', 'o', 'ot', 's', 'st'},\n",
       " ('D', 'P'): {'<', 'm'},\n",
       " ('J', 'C'): {'=', 'e', 'et'},\n",
       " ('J', 'D'): {'=', 'd', 'e', 'et', 'o', 's'},\n",
       " ('J', 'P'): {'<', 'm'}}"
      ]
     },
     "execution_count": 37,
     "metadata": {},
     "output_type": "execute_result"
    }
   ],
   "source": [
    "G2 = ajouter(G2,({'s','=','d','e'},'C','D'))\n",
    "G2.relations"
   ]
  }
 ],
 "metadata": {
  "kernelspec": {
   "display_name": "Python 3",
   "language": "python",
   "name": "python3"
  },
  "language_info": {
   "codemirror_mode": {
    "name": "ipython",
    "version": 3
   },
   "file_extension": ".py",
   "mimetype": "text/x-python",
   "name": "python",
   "nbconvert_exporter": "python",
   "pygments_lexer": "ipython3",
   "version": "3.6.3"
  }
 },
 "nbformat": 4,
 "nbformat_minor": 2
}
